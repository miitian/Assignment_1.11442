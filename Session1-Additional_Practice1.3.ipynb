{
 "cells": [
  {
   "cell_type": "markdown",
   "metadata": {},
   "source": [
    "### 1) Write a single statement to print all multiples of 4 between 0 and 100 inclusive"
   ]
  },
  {
   "cell_type": "code",
   "execution_count": 1,
   "metadata": {},
   "outputs": [
    {
     "name": "stdout",
     "output_type": "stream",
     "text": [
      "[0, 4, 8, 12, 16, 20, 24, 28, 32, 36, 40, 44, 48, 52, 56, 60, 64, 68, 72, 76, 80, 84, 88, 92, 96, 100]\n",
      "[0, 4, 8, 12, 16, 20, 24, 28, 32, 36, 40, 44, 48, 52, 56, 60, 64, 68, 72, 76, 80, 84, 88, 92, 96, 100]\n"
     ]
    }
   ],
   "source": [
    "print([4*n for n in range(26)])\n",
    "print(list(range(101)[0::4]))"
   ]
  },
  {
   "cell_type": "markdown",
   "metadata": {},
   "source": [
    "### 2) Write a function that returns true if a given number is prime"
   ]
  },
  {
   "cell_type": "code",
   "execution_count": 96,
   "metadata": {},
   "outputs": [
    {
     "name": "stdout",
     "output_type": "stream",
     "text": [
      "True\n"
     ]
    }
   ],
   "source": [
    "import math\n",
    "\n",
    "\n",
    "num =  97\n",
    "def checkPrime(num):\n",
    "    isPrime = True\n",
    "    if num < 1:\n",
    "        isPrime = False\n",
    "    elif num == 1:\n",
    "        isPrime = True\n",
    "    elif num == 2:\n",
    "        isPrime = True\n",
    "    elif num > 2 and num % 2 == 0:\n",
    "        isPrime = False\n",
    "    else:\n",
    "        max_div = math.floor(math.sqrt(num))\n",
    "        for i in range(3, 1 + max_div, 2):\n",
    "        #for i in range(2, num):\n",
    "            if num % i == 0:\n",
    "                isPrime = False\n",
    "                break\n",
    "    return isPrime\n",
    "\n",
    "print(checkPrime(num))\n",
    "\n",
    "#*******************************************************#\n",
    "# Another Solution\n",
    "#*******************************************************#\n"
   ]
  },
  {
   "cell_type": "code",
   "execution_count": 95,
   "metadata": {},
   "outputs": [
    {
     "name": "stdout",
     "output_type": "stream",
     "text": [
      "True\n"
     ]
    }
   ],
   "source": [
    "num = 97\n",
    "print(any(list(map(lambda x:num%x == 0, range(2,num)))) != True)"
   ]
  },
  {
   "cell_type": "markdown",
   "metadata": {},
   "source": [
    "### 3) Use the function to filter out all the prime numbers between 1 and 100 inclusive"
   ]
  },
  {
   "cell_type": "code",
   "execution_count": 58,
   "metadata": {},
   "outputs": [
    {
     "name": "stdout",
     "output_type": "stream",
     "text": [
      "[1, 2, 3, 5, 7, 11, 13, 17, 19, 23, 29, 31, 37, 41, 43, 47, 53, 59, 61, 67, 71, 73, 79, 83, 89, 97]\n"
     ]
    }
   ],
   "source": [
    "print(list(filter(lambda n:checkPrime(n), range(1,101))))"
   ]
  },
  {
   "cell_type": "markdown",
   "metadata": {},
   "source": [
    "### Write a program to generate the following array"
   ]
  },
  {
   "cell_type": "code",
   "execution_count": 91,
   "metadata": {
    "scrolled": true
   },
   "outputs": [
    {
     "data": {
      "text/plain": [
       "[[1, 2, 3, 4, 5],\n",
       " [1, 4, 9, 16, 25],\n",
       " [1, 8, 27, 64, 125],\n",
       " [1, 16, 81, 256, 625],\n",
       " [1, 32, 243, 1024, 3125]]"
      ]
     },
     "execution_count": 91,
     "metadata": {},
     "output_type": "execute_result"
    }
   ],
   "source": [
    "list1_1 = [(list(map(lambda n:n**i, range(1,6)))) for i in range(1,6)]\n",
    "list1_1"
   ]
  },
  {
   "cell_type": "code",
   "execution_count": 92,
   "metadata": {},
   "outputs": [
    {
     "name": "stdout",
     "output_type": "stream",
     "text": [
      "1 2 3 4 5  \n",
      "1 4 9 16 25  \n",
      "1 8 27 64 125  \n",
      "1 16 81 256 625  \n",
      "1 32 243 1024 3125  \n"
     ]
    }
   ],
   "source": [
    "list1_2 = [print(*(list(map(lambda n:n**i, range(1,6)))), ' ') for i in range(1,6)]\n",
    "#list1_2"
   ]
  },
  {
   "cell_type": "code",
   "execution_count": 78,
   "metadata": {},
   "outputs": [
    {
     "data": {
      "text/plain": [
       "['1 2 3 4 5',\n",
       " '1 4 9 16 25',\n",
       " '1 8 27 64 125',\n",
       " '1 16 81 256 625',\n",
       " '1 32 243 1024 3125']"
      ]
     },
     "execution_count": 78,
     "metadata": {},
     "output_type": "execute_result"
    }
   ],
   "source": [
    "list1_3 = [' '.join((list(map(lambda n:str(n**i), range(1,6))))) for i in range(1,6)]\n",
    "list1_3"
   ]
  },
  {
   "cell_type": "markdown",
   "metadata": {},
   "source": [
    "### 4) Write a  function to get the side of a square and return its perimeter"
   ]
  },
  {
   "cell_type": "code",
   "execution_count": 24,
   "metadata": {},
   "outputs": [],
   "source": [
    "def sqr_perimeter(side):\n",
    "    perimeter = 4 * side\n",
    "    return perimeter"
   ]
  },
  {
   "cell_type": "code",
   "execution_count": 25,
   "metadata": {},
   "outputs": [
    {
     "data": {
      "text/plain": [
       "14.8"
      ]
     },
     "execution_count": 25,
     "metadata": {},
     "output_type": "execute_result"
    }
   ],
   "source": [
    "sqr_perimeter(3.7)"
   ]
  },
  {
   "cell_type": "markdown",
   "metadata": {},
   "source": [
    "### Write code to get the side from user and call the function to print perimeter. Also use format in the print statement to print the perimeter to 2 decimal places."
   ]
  },
  {
   "cell_type": "code",
   "execution_count": 26,
   "metadata": {},
   "outputs": [],
   "source": [
    "def call_sqr_perimeter():\n",
    "    side = float(input('please enter side: '))\n",
    "    perimeter = sqr_perimeter(side)\n",
    "    perimeter = round(perimeter, 2)\n",
    "    print('Perieter: {}'.format(perimeter))"
   ]
  },
  {
   "cell_type": "code",
   "execution_count": 27,
   "metadata": {},
   "outputs": [
    {
     "name": "stdout",
     "output_type": "stream",
     "text": [
      "please enter side: 3.67\n",
      "Perieter: 14.68\n"
     ]
    }
   ],
   "source": [
    "call_sqr_perimeter()"
   ]
  }
 ],
 "metadata": {
  "kernelspec": {
   "display_name": "Python 3",
   "language": "python",
   "name": "python3"
  },
  "language_info": {
   "codemirror_mode": {
    "name": "ipython",
    "version": 3
   },
   "file_extension": ".py",
   "mimetype": "text/x-python",
   "name": "python",
   "nbconvert_exporter": "python",
   "pygments_lexer": "ipython3",
   "version": "3.6.5"
  }
 },
 "nbformat": 4,
 "nbformat_minor": 2
}
